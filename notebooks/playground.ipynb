{
 "cells": [
  {
   "cell_type": "code",
   "execution_count": null,
   "metadata": {},
   "outputs": [],
   "source": [
    "import gym\n",
    "from gym import spaces\n",
    "import numpy as np"
   ]
  },
  {
   "cell_type": "code",
   "execution_count": null,
   "metadata": {},
   "outputs": [],
   "source": [
    "class GridWorldEnv(gym.Env):\n",
    "    def __init__(self, grid_size=10, blocked_cells=None, start_pos=(0, 0), target_pos=(9, 9)):\n",
    "        super(GridWorldEnv, self).__init__()\n",
    "        self.grid_size = grid_size\n",
    "        self.start_pos = start_pos\n",
    "        self.target_pos = target_pos\n",
    "\n",
    "        # Actions: 0=Up, 1=Down, 2=Left, 3=Right\n",
    "        self.action_space = spaces.Discrete(4)\n",
    "        # Observations: Agent's position\n",
    "        self.observation_space = spaces.Tuple((\n",
    "            spaces.Discrete(grid_size),\n",
    "            spaces.Discrete(grid_size)\n",
    "        ))\n",
    "\n",
    "        # Initialize the grid\n",
    "        self.blocked_cells = blocked_cells or []\n",
    "        self.reset()\n",
    "\n",
    "    def reset(self):\n",
    "        self.agent_pos = self.start_pos\n",
    "        return self.agent_pos\n",
    "\n",
    "    def step(self, action):\n",
    "        x, y = self.agent_pos\n",
    "        if action == 0 and x > 0:  # Up\n",
    "            x -= 1\n",
    "        elif action == 1 and x < self.grid_size - 1:  # Down\n",
    "            x += 1\n",
    "        elif action == 2 and y > 0:  # Left\n",
    "            y -= 1\n",
    "        elif action == 3 and y < self.grid_size - 1:  # Right\n",
    "            y += 1\n",
    "\n",
    "        if (x, y) not in self.blocked_cells:\n",
    "            self.agent_pos = (x, y)\n",
    "\n",
    "        done = self.agent_pos == self.target_pos\n",
    "        reward = 1 if done else -0.01  # Encourage faster completion\n",
    "        return self.agent_pos, reward, done, {}\n",
    "\n",
    "    def render(self, mode='human'):\n",
    "        grid = np.zeros((self.grid_size, self.grid_size), dtype=str)\n",
    "        grid[:] = '.'\n",
    "        for cell in self.blocked_cells:\n",
    "            grid[cell] = '#'\n",
    "        grid[self.target_pos] = 'G'  # Goal\n",
    "        grid[self.agent_pos] = 'A'  # Agent\n",
    "        print('\\n'.join(' '.join(row) for row in grid))\n",
    "        print()"
   ]
  }
 ],
 "metadata": {
  "language_info": {
   "name": "python"
  }
 },
 "nbformat": 4,
 "nbformat_minor": 2
}
